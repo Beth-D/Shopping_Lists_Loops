{
 "cells": [
  {
   "cell_type": "markdown",
   "metadata": {},
   "source": [
    "## Shopping List - practicing loops with Python"
   ]
  },
  {
   "cell_type": "code",
   "execution_count": 5,
   "metadata": {},
   "outputs": [
    {
     "name": "stdout",
     "output_type": "stream",
     "text": [
      "Would you like to add an item to the grocery list? Answer yes/no : no\n"
     ]
    }
   ],
   "source": [
    "import json\n",
    "\n",
    "proceed = True\n",
    "grocery_list = {}\n",
    "\n",
    "while proceed:\n",
    "    add_item = input('Would you like to add an item to the grocery list? Answer yes/no : ').lower()\n",
    "    if add_item == 'yes':\n",
    "        item = input('Enter the name of the item: ')\n",
    "        try:\n",
    "            quantity = int(input('Enter the quantity: '))\n",
    "            if quantity <= 0:\n",
    "                raise ValueError           \n",
    "            grocery_list[item] = quantity\n",
    "        except ValueError:\n",
    "            print('The quantity must be a whole number greater than 0')\n",
    "    elif add_item == 'no':\n",
    "        proceed = False\n",
    "    else:\n",
    "        print('Please enter the value yes or no')\n",
    "        \n",
    "with open('grocery_list.json', 'w') as f:\n",
    "    json.dump(grocery_list, f)    "
   ]
  },
  {
   "cell_type": "code",
   "execution_count": 6,
   "metadata": {},
   "outputs": [],
   "source": [
    "with open('grocery_list.json') as f:\n",
    "    grocery_list = json.load(f)\n",
    "    for item,quantity in grocery_list.items():\n",
    "        print(item, \" : \",quantity)"
   ]
  },
  {
   "cell_type": "code",
   "execution_count": null,
   "metadata": {
    "collapsed": true
   },
   "outputs": [],
   "source": []
  }
 ],
 "metadata": {
  "kernelspec": {
   "display_name": "Python 3",
   "language": "python",
   "name": "python3"
  },
  "language_info": {
   "codemirror_mode": {
    "name": "ipython",
    "version": 3
   },
   "file_extension": ".py",
   "mimetype": "text/x-python",
   "name": "python",
   "nbconvert_exporter": "python",
   "pygments_lexer": "ipython3",
   "version": "3.7.4"
  }
 },
 "nbformat": 4,
 "nbformat_minor": 2
}
